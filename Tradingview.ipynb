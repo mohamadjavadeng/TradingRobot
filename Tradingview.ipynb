{
 "cells": [
  {
   "cell_type": "code",
   "execution_count": 32,
   "metadata": {},
   "outputs": [],
   "source": [
    "from tradingview_ta import TA_Handler, Exchange, Interval\n",
    "import requests\n",
    "import requests_html\n",
    "import pandas as pd"
   ]
  },
  {
   "cell_type": "code",
   "execution_count": 33,
   "metadata": {},
   "outputs": [
    {
     "name": "stdout",
     "output_type": "stream",
     "text": [
      "<tradingview_ta.main.TA_Handler object at 0x000001FA494FD810>\n"
     ]
    }
   ],
   "source": [
    "tesla = TA_Handler(\n",
    "    symbol='TSLA',\n",
    "    screener='america',\n",
    "    exchange='NASDAQ',\n",
    "    interval=Interval.INTERVAL_1_MINUTE\n",
    ")\n",
    "print(tesla)"
   ]
  },
  {
   "cell_type": "code",
   "execution_count": 34,
   "metadata": {},
   "outputs": [
    {
     "name": "stdout",
     "output_type": "stream",
     "text": [
      "<tradingview_ta.main.TA_Handler object at 0x000001FA6A8AD450>\n"
     ]
    }
   ],
   "source": [
    "btcusd = TA_Handler(\n",
    "    symbol='BTCUSD',\n",
    "    screener='crypto',\n",
    "    exchange='EXMO',\n",
    "    interval=Interval.INTERVAL_1_MINUTE\n",
    ")\n",
    "print(btcusd)"
   ]
  },
  {
   "cell_type": "code",
   "execution_count": 35,
   "metadata": {},
   "outputs": [
    {
     "data": {
      "text/plain": [
       "<tradingview_ta.main.Analysis at 0x1fa6e9cfc90>"
      ]
     },
     "execution_count": 35,
     "metadata": {},
     "output_type": "execute_result"
    }
   ],
   "source": [
    "btcusd.get_analysis()"
   ]
  },
  {
   "cell_type": "code",
   "execution_count": 36,
   "metadata": {},
   "outputs": [
    {
     "data": {
      "text/plain": [
       "{'RECOMMENDATION': 'SELL', 'BUY': 1, 'SELL': 15, 'NEUTRAL': 10}"
      ]
     },
     "execution_count": 36,
     "metadata": {},
     "output_type": "execute_result"
    }
   ],
   "source": [
    "btcusd.get_analysis().summary"
   ]
  },
  {
   "cell_type": "code",
   "execution_count": 37,
   "metadata": {},
   "outputs": [
    {
     "data": {
      "text/plain": [
       "48.05113402"
      ]
     },
     "execution_count": 37,
     "metadata": {},
     "output_type": "execute_result"
    }
   ],
   "source": [
    "btcusd.get_analysis().indicators['RSI']"
   ]
  },
  {
   "cell_type": "code",
   "execution_count": 38,
   "metadata": {},
   "outputs": [
    {
     "name": "stdout",
     "output_type": "stream",
     "text": [
      "<!DOCTYPE html>\n",
      "<html>\n",
      "<head>\n",
      "<title>TradingView List</title>\n",
      "<link rel=\"stylesheet\" href=\"https://cdn.jsdelivr.net/npm/water.css@2/out/dark.min.css\" />\n",
      "<link rel=\"stylesheet\" href=\"https://cdnjs.cloudflare.com/ajax/libs/fork-awesome/1.2.0/css/fork-awesome.min.css\" integrity=\"sha512-aupidr80M36SeyviA/hZ2uEPnvt2dTJfyjm9y6z1MgaV13TgzmDiFdsH3cvSNG27mRIj7gJ2gNeg1HeySJyE3Q==\" crossorigin=\"anonymous\" referrerpolicy=\"no-referrer\" />\n",
      "<meta name=\"viewport\" content=\"width=device-width, initial-scale=1.0\" />\n",
      "</head>\n",
      "<body>\n",
      "<h1>TradingView List</h1>\n",
      "<p>\n",
      "This website lists symbol, exchange, and screener supported by the python\n",
      "library tradingview-ta. The database isn't complete, so please\n",
      "<a rel=\"noopener\" target=\"_blank\" href=\"https://github.com/brian-the-dev/tradingview-list/issues/new/\">open an issue</a\n",
      "      >\n",
      "on GitHub if you can't find your country. Please note that indices are not\n",
      "supported by tradingview-ta, this is a limitation from TradingView's API,\n",
      "not the library.\n",
      "</p>\n",
      "<div style=\"display: flex; padding: 12px; flex-direction: column; background: #181828; border-radius: 0.5rem;\"> <a href=\"https://gist.github.com/brian-the-dev/e54f30a3e602093592e38c46ca36d88d\" target=\"_blank\">Why ads?</a> <iframe data-aa=\"2165143\" src=\"//ad.a-ads.com/2165143?size=728x90\" style=\"width:728px; height:90px; border:0px; padding:0; overflow:hidden; background-color: transparent;\"></iframe> </div>\n",
      "<label for=\"screener\">Screener:</label>\n",
      "<select name=\"screener\" id=\"screener\" onchange=\"search()\">\n",
      "<option value=\"all\">All</option>\n",
      "<option value=\"australia\">Australia</option>\n",
      "<option value=\"brazil\">Brazil</option>\n",
      "<option value=\"cfd\">CFD</option>\n",
      "<option value=\"canada\">Canada</option>\n",
      "<option value=\"crypto\">Cryptocurrency</option>\n",
      "<option value=\"euronext\">Euronext</option>\n",
      "<option value=\"forex\">Forex</option>\n",
      "<option value=\"france\">France</option>\n",
      "<option value=\"germany\">Germany</option>\n",
      "<option value=\"hongkong\">Hong Kong</option>\n",
      "<option value=\"india\">India</option>\n",
      "<option value=\"indonesia\">Indonesia</option>\n",
      "<option value=\"italy\">Italy</option>\n",
      "<option value=\"malaysia\">Malaysia</option>\n",
      "<option value=\"philippines\">Philippines</option>\n",
      "<option value=\"russia\">Russia</option>\n",
      "<option value=\"ksa\">Saudi Arabia</option>\n",
      "<option value=\"rsa\">South Africa</option>\n",
      "<option value=\"korea\">South Korea</option>\n",
      "<option value=\"spain\">Spain</option>\n",
      "<option value=\"sweden\">Sweden</option>\n",
      "<option value=\"taiwan\">Taiwan</option>\n",
      "<option value=\"thailand\">Thailand</option>\n",
      "<option value=\"turkey\">Turkey</option>\n",
      "<option value=\"uk\">United Kingdom</option>\n",
      "<option value=\"america\">United States</option>\n",
      "<option value=\"vietnam\">Vietnam</option>\n",
      "</select>\n",
      "<label for=\"screener\">Search:</label>\n",
      "<input type=\"text\" id=\"search\" name=\"search\" placeholder=\"Search\" oninput=\"search()\" autofocus />\n",
      "<table>\n",
      "<thead>\n",
      "<tr>\n",
      "<th>Screener</th>\n",
      "<th>Exchange</th>\n",
      "<th>Symbol</th>\n",
      "<th>Description</th>\n",
      "</tr>\n",
      "</thead>\n",
      "<tbody id=\"result\"></tbody>\n",
      "</table>\n",
      "<div id=\"pagination\" style=\"display: flex\">\n",
      "<button onclick=\"chg_page(-1)\">\n",
      "<i class=\"fa fa-arrow-left\" aria-hidden=\"true\"></i>\n",
      "</button>\n",
      "<input type=\"number\" id=\"page\" value=\"1\" min=\"1\" onchange=\"set_page(this.value)\" />\n",
      "<button onclick=\"chg_page(1)\">\n",
      "<i class=\"fa fa-arrow-right\" aria-hidden=\"true\"></i>\n",
      "</button>\n",
      "</div>\n",
      "<div style=\"display: flex; padding: 12px; flex-direction: column; background: #181828; border-radius: 0.5rem;\"> <a href=\"https://gist.github.com/brian-the-dev/e54f30a3e602093592e38c46ca36d88d\" target=\"_blank\">Why ads?</a> <iframe data-aa=\"2165143\" src=\"//ad.a-ads.com/2165143?size=728x90\" style=\"width:728px; height:90px; border:0px; padding:0; overflow:hidden; background-color: transparent;\"></iframe> </div>\n",
      "<footer>\n",
      "&copy;\n",
      "<a rel=\"noopener\" target=\"_blank\" href=\"https://brianthe.dev\">Brian</a> &\n",
      "contributors |\n",
      "<a rel=\"noopener\" target=\"_blank\" href=\"https://github.com/brian-the-dev/python-tradingview-ta\">python-tradingview-ta</a\n",
      "      >\n",
      "|\n",
      "<a rel=\"noopener\" target=\"_blank\" href=\"https://github.com/brian-the-dev/tradingview-list\">tradingview-list</a\n",
      "      >\n",
      "</footer>\n",
      "<script src=\"https://cdnjs.cloudflare.com/ajax/libs/socket.io/4.5.1/socket.io.min.js\" integrity=\"sha512-mHO4BJ0ELk7Pb1AzhTi3zvUeRgq3RXVOu9tTRfnA6qOxGK4pG2u57DJYolI4KrEnnLTcH9/J5wNOozRTDaybXg==\" crossorigin=\"anonymous\" referrerpolicy=\"no-referrer\"></script>\n",
      "<script src=\"https://cdnjs.cloudflare.com/ajax/libs/pako/2.0.4/pako_inflate.min.js\" integrity=\"sha512-fgc3x4jhafjzc+RLRBO+llDWTvHZdOmpQU3qU7iZ5Qm0nZ9KWPGytu3j06tcm4ZZ2jf6fCz/oSK7KrILK5K+AA==\" crossorigin=\"anonymous\" referrerpolicy=\"no-referrer\"></script>\n",
      "<script src=\"/static/script.js\"></script>\n",
      "<script defer src=\"https://static.cloudflareinsights.com/beacon.min.js/v84a3a4012de94ce1a686ba8c167c359c1696973893317\" integrity=\"sha512-euoFGowhlaLqXsPWQ48qSkBSCFs3DPRyiwVu3FjR96cMPx+Fr+gpWRhIafcHwqwCqWS42RZhIudOvEI+Ckf6MA==\" data-cf-beacon='{\"rayId\":\"82a816c3cc1e6f5e\",\"version\":\"2023.10.0\",\"r\":1,\"token\":\"bb46f8c9672e495d9c06eda377e72ee5\",\"b\":1}' crossorigin=\"anonymous\"></script>\n",
      "</body>\n",
      "</html>\n"
     ]
    }
   ],
   "source": [
    "url = \"https://tvdb.brianthe.dev/\"  # URL of the website\n",
    "\n",
    "# Send a GET request to the URL\n",
    "response = requests.get(url)\n",
    "\n",
    "# Check if the request was successful (status code 200)\n",
    "if response.status_code == 200:\n",
    "    # Print the content of the response (HTML content)\n",
    "    print(response.text)\n",
    "else:\n",
    "    print(\"Failed to fetch data. Status code:\", response.status_code)"
   ]
  },
  {
   "cell_type": "code",
   "execution_count": 39,
   "metadata": {},
   "outputs": [],
   "source": [
    "from requests_html import HTMLSession"
   ]
  },
  {
   "cell_type": "code",
   "execution_count": 40,
   "metadata": {},
   "outputs": [],
   "source": [
    "session = HTMLSession()\n",
    "response = session.get(url)"
   ]
  },
  {
   "cell_type": "code",
   "execution_count": 41,
   "metadata": {},
   "outputs": [],
   "source": [
    "title = response.html.find('title')"
   ]
  },
  {
   "cell_type": "code",
   "execution_count": 42,
   "metadata": {},
   "outputs": [],
   "source": [
    "payload = {'search':'BTCUSD'}"
   ]
  },
  {
   "cell_type": "code",
   "execution_count": 53,
   "metadata": {},
   "outputs": [
    {
     "data": {
      "text/html": [
       "<div>\n",
       "<style scoped>\n",
       "    .dataframe tbody tr th:only-of-type {\n",
       "        vertical-align: middle;\n",
       "    }\n",
       "\n",
       "    .dataframe tbody tr th {\n",
       "        vertical-align: top;\n",
       "    }\n",
       "\n",
       "    .dataframe thead th {\n",
       "        text-align: right;\n",
       "    }\n",
       "</style>\n",
       "<table border=\"1\" class=\"dataframe\">\n",
       "  <thead>\n",
       "    <tr style=\"text-align: right;\">\n",
       "      <th></th>\n",
       "      <th>#</th>\n",
       "      <th>Coin</th>\n",
       "      <th>Unnamed: 3</th>\n",
       "      <th>Price</th>\n",
       "      <th>1h</th>\n",
       "      <th>24h</th>\n",
       "      <th>7d</th>\n",
       "      <th>30d</th>\n",
       "      <th>24h Volume</th>\n",
       "      <th>Market Cap</th>\n",
       "      <th>FDV</th>\n",
       "      <th>Market Cap / FDV</th>\n",
       "    </tr>\n",
       "  </thead>\n",
       "  <tbody>\n",
       "    <tr>\n",
       "      <th>0</th>\n",
       "      <td>1</td>\n",
       "      <td>Bitcoin BTC</td>\n",
       "      <td>Buy</td>\n",
       "      <td>$36,636.87</td>\n",
       "      <td>0.3%</td>\n",
       "      <td>1.9%</td>\n",
       "      <td>2.2%</td>\n",
       "      <td>19.8%</td>\n",
       "      <td>$25,071,228,875</td>\n",
       "      <td>$717,132,788,506</td>\n",
       "      <td>$770,337,702,612</td>\n",
       "      <td>0.93</td>\n",
       "    </tr>\n",
       "    <tr>\n",
       "      <th>1</th>\n",
       "      <td>2</td>\n",
       "      <td>Ethereum ETH</td>\n",
       "      <td>Buy</td>\n",
       "      <td>$2,023.87</td>\n",
       "      <td>0.6%</td>\n",
       "      <td>0.5%</td>\n",
       "      <td>1.8%</td>\n",
       "      <td>20.9%</td>\n",
       "      <td>$25,513,193,463</td>\n",
       "      <td>$243,456,122,909</td>\n",
       "      <td>$243,456,122,909</td>\n",
       "      <td>1.00</td>\n",
       "    </tr>\n",
       "    <tr>\n",
       "      <th>2</th>\n",
       "      <td>3</td>\n",
       "      <td>Tether USDT</td>\n",
       "      <td>NaN</td>\n",
       "      <td>$1.00</td>\n",
       "      <td>0.1%</td>\n",
       "      <td>0.0%</td>\n",
       "      <td>0.0%</td>\n",
       "      <td>0.1%</td>\n",
       "      <td>$45,376,356,273</td>\n",
       "      <td>$88,324,291,392</td>\n",
       "      <td>$88,324,291,392</td>\n",
       "      <td>1.00</td>\n",
       "    </tr>\n",
       "    <tr>\n",
       "      <th>3</th>\n",
       "      <td>4</td>\n",
       "      <td>BNB BNB</td>\n",
       "      <td>Buy</td>\n",
       "      <td>$235.60</td>\n",
       "      <td>0.5%</td>\n",
       "      <td>9.7%</td>\n",
       "      <td>4.0%</td>\n",
       "      <td>7.2%</td>\n",
       "      <td>$2,715,375,587</td>\n",
       "      <td>$36,228,990,832</td>\n",
       "      <td>$36,228,990,832</td>\n",
       "      <td>1.00</td>\n",
       "    </tr>\n",
       "    <tr>\n",
       "      <th>4</th>\n",
       "      <td>5</td>\n",
       "      <td>XRP XRP</td>\n",
       "      <td>Buy</td>\n",
       "      <td>$0.595917</td>\n",
       "      <td>0.0%</td>\n",
       "      <td>3.1%</td>\n",
       "      <td>6.0%</td>\n",
       "      <td>12.2%</td>\n",
       "      <td>$1,460,377,160</td>\n",
       "      <td>$32,031,568,597</td>\n",
       "      <td>$59,621,752,786</td>\n",
       "      <td>0.54</td>\n",
       "    </tr>\n",
       "  </tbody>\n",
       "</table>\n",
       "</div>"
      ],
      "text/plain": [
       "   #          Coin Unnamed: 3       Price    1h   24h    7d    30d  \\\n",
       "0  1   Bitcoin BTC        Buy  $36,636.87  0.3%  1.9%  2.2%  19.8%   \n",
       "1  2  Ethereum ETH        Buy   $2,023.87  0.6%  0.5%  1.8%  20.9%   \n",
       "2  3   Tether USDT        NaN       $1.00  0.1%  0.0%  0.0%   0.1%   \n",
       "3  4       BNB BNB        Buy     $235.60  0.5%  9.7%  4.0%   7.2%   \n",
       "4  5       XRP XRP        Buy   $0.595917  0.0%  3.1%  6.0%  12.2%   \n",
       "\n",
       "        24h Volume        Market Cap               FDV  Market Cap / FDV  \n",
       "0  $25,071,228,875  $717,132,788,506  $770,337,702,612              0.93  \n",
       "1  $25,513,193,463  $243,456,122,909  $243,456,122,909              1.00  \n",
       "2  $45,376,356,273   $88,324,291,392   $88,324,291,392              1.00  \n",
       "3   $2,715,375,587   $36,228,990,832   $36,228,990,832              1.00  \n",
       "4   $1,460,377,160   $32,031,568,597   $59,621,752,786              0.54  "
      ]
     },
     "execution_count": 53,
     "metadata": {},
     "output_type": "execute_result"
    }
   ],
   "source": [
    "df = pd.read_csv(\"Crypto Data Table.csv\")\n",
    "\n",
    "df.head()"
   ]
  },
  {
   "cell_type": "code",
   "execution_count": 54,
   "metadata": {},
   "outputs": [
    {
     "data": {
      "text/plain": [
       "2"
      ]
     },
     "execution_count": 54,
     "metadata": {},
     "output_type": "execute_result"
    }
   ],
   "source": [
    "name = df.at[1,'Coin']\n",
    "list_text = name.split(\" \")\n",
    "len(list_text)"
   ]
  },
  {
   "cell_type": "code",
   "execution_count": 55,
   "metadata": {},
   "outputs": [
    {
     "data": {
      "text/plain": [
       "300"
      ]
     },
     "execution_count": 55,
     "metadata": {},
     "output_type": "execute_result"
    }
   ],
   "source": [
    "namelist = df['Coin']\n",
    "len(namelist)"
   ]
  },
  {
   "cell_type": "code",
   "execution_count": 64,
   "metadata": {},
   "outputs": [
    {
     "data": {
      "text/plain": [
       "True"
      ]
     },
     "execution_count": 64,
     "metadata": {},
     "output_type": "execute_result"
    }
   ],
   "source": [
    "def findCrypto(cryptoName, cryptoList):\n",
    "    for i in cryptoList:\n",
    "        if cryptoName in i:\n",
    "            return True\n",
    "    return False        \n",
    "findCrypto('Bitcoin', namelist)"
   ]
  },
  {
   "cell_type": "code",
   "execution_count": null,
   "metadata": {},
   "outputs": [],
   "source": [
    "print(list_text[0].lower())"
   ]
  },
  {
   "cell_type": "code",
   "execution_count": null,
   "metadata": {},
   "outputs": [],
   "source": [
    "# URL of CoinGecko's search API\n",
    "url = 'https://www.coingecko.com/search_results'\n",
    "\n",
    "# Search query\n",
    "query = 'bitcoin'\n",
    "\n",
    "# Parameters for the search request\n",
    "params = {\n",
    "    'term': query,\n",
    "    'locale': 'en'\n",
    "}\n",
    "\n",
    "# Send a GET request to search for the cryptocurrency\n",
    "response = requests.get(url, params=params)\n",
    "\n",
    "# Check if the request was successful\n",
    "if response.status_code == 200:\n",
    "    # Get the JSON response\n",
    "    data = response.json()\n",
    "\n",
    "    # Display the first result\n",
    "    if data and len(data) > 0:\n",
    "        first_result = data[0]\n",
    "        print(f\"Name: {first_result['name']}\")\n",
    "        print(f\"Symbol: {first_result['symbol']}\")\n",
    "        print(f\"ID: {first_result['id']}\")\n",
    "        print(f\"Market Cap Rank: {first_result['market_cap_rank']}\")\n",
    "    else:\n",
    "        print(\"No results found.\")\n",
    "else:\n",
    "    print(\"Failed to fetch data.\")"
   ]
  },
  {
   "cell_type": "code",
   "execution_count": 11,
   "metadata": {},
   "outputs": [
    {
     "name": "stderr",
     "output_type": "stream",
     "text": [
      "C:\\Users\\Mohamad\\AppData\\Local\\Temp\\ipykernel_11384\\3660751255.py:21: FutureWarning: Passing literal html to 'read_html' is deprecated and will be removed in a future version. To read from a literal string, wrap it in a 'StringIO' object.\n",
      "  df = pd.read_html(str(soup))[0].head(10)\n"
     ]
    },
    {
     "data": {
      "text/html": [
       "<div>\n",
       "<style scoped>\n",
       "    .dataframe tbody tr th:only-of-type {\n",
       "        vertical-align: middle;\n",
       "    }\n",
       "\n",
       "    .dataframe tbody tr th {\n",
       "        vertical-align: top;\n",
       "    }\n",
       "\n",
       "    .dataframe thead th {\n",
       "        text-align: right;\n",
       "    }\n",
       "</style>\n",
       "<table border=\"1\" class=\"dataframe\">\n",
       "  <thead>\n",
       "    <tr style=\"text-align: right;\">\n",
       "      <th></th>\n",
       "      <th>Unnamed: 0</th>\n",
       "      <th>#</th>\n",
       "      <th>Coin</th>\n",
       "      <th>Unnamed: 3</th>\n",
       "      <th>Price</th>\n",
       "      <th>1h</th>\n",
       "      <th>24h</th>\n",
       "      <th>7d</th>\n",
       "      <th>30d</th>\n",
       "      <th>24h Volume</th>\n",
       "      <th>Market Cap</th>\n",
       "      <th>FDV</th>\n",
       "      <th>Market Cap / FDV</th>\n",
       "      <th>Last 7 Days</th>\n",
       "    </tr>\n",
       "  </thead>\n",
       "  <tbody>\n",
       "    <tr>\n",
       "      <th>0</th>\n",
       "      <td>NaN</td>\n",
       "      <td>1</td>\n",
       "      <td>Bitcoin BTC</td>\n",
       "      <td>Buy</td>\n",
       "      <td>$37,876.73</td>\n",
       "      <td>0.6%</td>\n",
       "      <td>1.5%</td>\n",
       "      <td>4.3%</td>\n",
       "      <td>10.7%</td>\n",
       "      <td>$14,083,044,849</td>\n",
       "      <td>$741,002,452,877</td>\n",
       "      <td>$795,899,141,353</td>\n",
       "      <td>0.93</td>\n",
       "      <td>NaN</td>\n",
       "    </tr>\n",
       "    <tr>\n",
       "      <th>1</th>\n",
       "      <td>NaN</td>\n",
       "      <td>2</td>\n",
       "      <td>Ethereum ETH</td>\n",
       "      <td>Buy</td>\n",
       "      <td>$2,106.04</td>\n",
       "      <td>0.0%</td>\n",
       "      <td>2.4%</td>\n",
       "      <td>7.2%</td>\n",
       "      <td>18.2%</td>\n",
       "      <td>$16,904,411,390</td>\n",
       "      <td>$253,243,523,134</td>\n",
       "      <td>$253,243,523,134</td>\n",
       "      <td>1.00</td>\n",
       "      <td>NaN</td>\n",
       "    </tr>\n",
       "    <tr>\n",
       "      <th>2</th>\n",
       "      <td>NaN</td>\n",
       "      <td>3</td>\n",
       "      <td>Tether USDT</td>\n",
       "      <td>NaN</td>\n",
       "      <td>$1.00</td>\n",
       "      <td>0.0%</td>\n",
       "      <td>0.0%</td>\n",
       "      <td>0.1%</td>\n",
       "      <td>0.1%</td>\n",
       "      <td>$29,204,189,622</td>\n",
       "      <td>$88,332,546,065</td>\n",
       "      <td>$88,332,546,065</td>\n",
       "      <td>1.00</td>\n",
       "      <td>NaN</td>\n",
       "    </tr>\n",
       "    <tr>\n",
       "      <th>3</th>\n",
       "      <td>NaN</td>\n",
       "      <td>4</td>\n",
       "      <td>BNB BNB</td>\n",
       "      <td>Buy</td>\n",
       "      <td>$235.23</td>\n",
       "      <td>0.1%</td>\n",
       "      <td>1.0%</td>\n",
       "      <td>3.6%</td>\n",
       "      <td>4.3%</td>\n",
       "      <td>$657,625,298</td>\n",
       "      <td>$36,206,976,341</td>\n",
       "      <td>$36,206,976,341</td>\n",
       "      <td>1.00</td>\n",
       "      <td>NaN</td>\n",
       "    </tr>\n",
       "    <tr>\n",
       "      <th>4</th>\n",
       "      <td>NaN</td>\n",
       "      <td>5</td>\n",
       "      <td>XRP XRP</td>\n",
       "      <td>Buy</td>\n",
       "      <td>$0.620175</td>\n",
       "      <td>0.0%</td>\n",
       "      <td>1.2%</td>\n",
       "      <td>1.4%</td>\n",
       "      <td>12.2%</td>\n",
       "      <td>$1,147,973,106</td>\n",
       "      <td>$33,354,350,853</td>\n",
       "      <td>$62,083,904,972</td>\n",
       "      <td>0.54</td>\n",
       "      <td>NaN</td>\n",
       "    </tr>\n",
       "    <tr>\n",
       "      <th>5</th>\n",
       "      <td>NaN</td>\n",
       "      <td>6</td>\n",
       "      <td>Solana SOL</td>\n",
       "      <td>Buy</td>\n",
       "      <td>$58.11</td>\n",
       "      <td>0.4%</td>\n",
       "      <td>0.7%</td>\n",
       "      <td>1.4%</td>\n",
       "      <td>80.9%</td>\n",
       "      <td>$1,337,775,118</td>\n",
       "      <td>$24,642,971,998</td>\n",
       "      <td>$32,796,176,720</td>\n",
       "      <td>0.75</td>\n",
       "      <td>NaN</td>\n",
       "    </tr>\n",
       "    <tr>\n",
       "      <th>6</th>\n",
       "      <td>NaN</td>\n",
       "      <td>7</td>\n",
       "      <td>USDC USDC</td>\n",
       "      <td>NaN</td>\n",
       "      <td>$0.999448</td>\n",
       "      <td>0.0%</td>\n",
       "      <td>0.0%</td>\n",
       "      <td>0.2%</td>\n",
       "      <td>0.0%</td>\n",
       "      <td>$8,875,611,776</td>\n",
       "      <td>$24,492,839,228</td>\n",
       "      <td>$24,493,194,660</td>\n",
       "      <td>1.00</td>\n",
       "      <td>NaN</td>\n",
       "    </tr>\n",
       "    <tr>\n",
       "      <th>7</th>\n",
       "      <td>NaN</td>\n",
       "      <td>8</td>\n",
       "      <td>Lido Staked Ether STETH</td>\n",
       "      <td>NaN</td>\n",
       "      <td>$2,109.94</td>\n",
       "      <td>0.1%</td>\n",
       "      <td>2.6%</td>\n",
       "      <td>7.5%</td>\n",
       "      <td>18.6%</td>\n",
       "      <td>$15,873,545</td>\n",
       "      <td>$19,359,314,791</td>\n",
       "      <td>$19,359,314,791</td>\n",
       "      <td>1.00</td>\n",
       "      <td>NaN</td>\n",
       "    </tr>\n",
       "    <tr>\n",
       "      <th>8</th>\n",
       "      <td>NaN</td>\n",
       "      <td>9</td>\n",
       "      <td>Cardano ADA</td>\n",
       "      <td>Buy</td>\n",
       "      <td>$0.390398</td>\n",
       "      <td>0.2%</td>\n",
       "      <td>2.2%</td>\n",
       "      <td>6.1%</td>\n",
       "      <td>39.1%</td>\n",
       "      <td>$305,841,842</td>\n",
       "      <td>$13,664,696,084</td>\n",
       "      <td>$17,581,620,319</td>\n",
       "      <td>0.78</td>\n",
       "      <td>NaN</td>\n",
       "    </tr>\n",
       "    <tr>\n",
       "      <th>9</th>\n",
       "      <td>NaN</td>\n",
       "      <td>10</td>\n",
       "      <td>Dogecoin DOGE</td>\n",
       "      <td>Buy</td>\n",
       "      <td>$0.077465479988</td>\n",
       "      <td>0.1%</td>\n",
       "      <td>2.2%</td>\n",
       "      <td>8.8%</td>\n",
       "      <td>17.8%</td>\n",
       "      <td>$425,325,205</td>\n",
       "      <td>$11,002,775,571</td>\n",
       "      <td>$11,002,784,097</td>\n",
       "      <td>1.00</td>\n",
       "      <td>NaN</td>\n",
       "    </tr>\n",
       "  </tbody>\n",
       "</table>\n",
       "</div>"
      ],
      "text/plain": [
       "   Unnamed: 0   #                     Coin Unnamed: 3            Price    1h  \\\n",
       "0         NaN   1              Bitcoin BTC        Buy       $37,876.73  0.6%   \n",
       "1         NaN   2             Ethereum ETH        Buy        $2,106.04  0.0%   \n",
       "2         NaN   3              Tether USDT        NaN            $1.00  0.0%   \n",
       "3         NaN   4                  BNB BNB        Buy          $235.23  0.1%   \n",
       "4         NaN   5                  XRP XRP        Buy        $0.620175  0.0%   \n",
       "5         NaN   6               Solana SOL        Buy           $58.11  0.4%   \n",
       "6         NaN   7                USDC USDC        NaN        $0.999448  0.0%   \n",
       "7         NaN   8  Lido Staked Ether STETH        NaN        $2,109.94  0.1%   \n",
       "8         NaN   9              Cardano ADA        Buy        $0.390398  0.2%   \n",
       "9         NaN  10            Dogecoin DOGE        Buy  $0.077465479988  0.1%   \n",
       "\n",
       "    24h    7d    30d       24h Volume        Market Cap               FDV  \\\n",
       "0  1.5%  4.3%  10.7%  $14,083,044,849  $741,002,452,877  $795,899,141,353   \n",
       "1  2.4%  7.2%  18.2%  $16,904,411,390  $253,243,523,134  $253,243,523,134   \n",
       "2  0.0%  0.1%   0.1%  $29,204,189,622   $88,332,546,065   $88,332,546,065   \n",
       "3  1.0%  3.6%   4.3%     $657,625,298   $36,206,976,341   $36,206,976,341   \n",
       "4  1.2%  1.4%  12.2%   $1,147,973,106   $33,354,350,853   $62,083,904,972   \n",
       "5  0.7%  1.4%  80.9%   $1,337,775,118   $24,642,971,998   $32,796,176,720   \n",
       "6  0.0%  0.2%   0.0%   $8,875,611,776   $24,492,839,228   $24,493,194,660   \n",
       "7  2.6%  7.5%  18.6%      $15,873,545   $19,359,314,791   $19,359,314,791   \n",
       "8  2.2%  6.1%  39.1%     $305,841,842   $13,664,696,084   $17,581,620,319   \n",
       "9  2.2%  8.8%  17.8%     $425,325,205   $11,002,775,571   $11,002,784,097   \n",
       "\n",
       "   Market Cap / FDV  Last 7 Days  \n",
       "0              0.93          NaN  \n",
       "1              1.00          NaN  \n",
       "2              1.00          NaN  \n",
       "3              1.00          NaN  \n",
       "4              0.54          NaN  \n",
       "5              0.75          NaN  \n",
       "6              1.00          NaN  \n",
       "7              1.00          NaN  \n",
       "8              0.78          NaN  \n",
       "9              1.00          NaN  "
      ]
     },
     "execution_count": 11,
     "metadata": {},
     "output_type": "execute_result"
    }
   ],
   "source": [
    "import requests\n",
    "from bs4 import BeautifulSoup\n",
    "import pandas as pd\n",
    "\n",
    "headers= {\n",
    "    'User-Agent': 'Mozilla/5.0 (Windows NT 10.0; Win64; x64; rv:87.0) Gecko/20100101 Firefox/87.0',\n",
    "    'Accept': 'text/html,application/xhtml+xml,application/xml;q=0.9,image/webp,*/*;q=0.8',\n",
    "    'Accept-Language': 'en-US,en;q=0.5',\n",
    "    'Connection': 'keep-alive',\n",
    "    'Upgrade-Insecure-Requests': '1',\n",
    "    'Cache-Control': 'max-age=0'\n",
    "}\n",
    "base_url = \"https://www.coingecko.com/en\"\n",
    "\n",
    "tables = []\n",
    "params = {\n",
    "    'page': 1\n",
    "}\n",
    "response = requests.get(base_url, headers=headers, params=params)\n",
    "soup = BeautifulSoup(response.content, 'html.parser')\n",
    "df = pd.read_html(str(soup))[0].head(10)\n",
    "df\n"
   ]
  },
  {
   "cell_type": "code",
   "execution_count": 10,
   "metadata": {},
   "outputs": [
    {
     "data": {
      "text/plain": [
       "nan"
      ]
     },
     "execution_count": 10,
     "metadata": {},
     "output_type": "execute_result"
    }
   ],
   "source": [
    "name = df.loc[2, \"Unnamed: 3\"]\n",
    "name"
   ]
  },
  {
   "cell_type": "code",
   "execution_count": 1,
   "metadata": {},
   "outputs": [],
   "source": [
    "from datetime import datetime"
   ]
  },
  {
   "cell_type": "code",
   "execution_count": 2,
   "metadata": {},
   "outputs": [
    {
     "name": "stdout",
     "output_type": "stream",
     "text": [
      "Current Date and Time: 2023-11-25 17:39:22.908240\n"
     ]
    }
   ],
   "source": [
    "# Get the current date and time\n",
    "current_datetime = datetime.now()\n",
    "\n",
    "print(\"Current Date and Time:\", current_datetime)"
   ]
  },
  {
   "cell_type": "code",
   "execution_count": 3,
   "metadata": {},
   "outputs": [
    {
     "name": "stdout",
     "output_type": "stream",
     "text": [
      "Entered Date and Time: 2023-11-26 17:45:20\n"
     ]
    }
   ],
   "source": [
    "date_string = \"2023-11-26 17:45:20\"\n",
    "# Convert input strings to datetime object\n",
    "try:\n",
    "    # Combine date and time strings and parse as datetime\n",
    "    user_datetime = datetime.strptime(date_string, \"%Y-%m-%d %H:%M:%S\")\n",
    "    print(\"Entered Date and Time:\", user_datetime)\n",
    "except ValueError:\n",
    "    print(\"Invalid input. Please enter the date in YYYY-MM-DD format and time in HH:MM:SS format.\")"
   ]
  },
  {
   "cell_type": "code",
   "execution_count": 1,
   "metadata": {},
   "outputs": [
    {
     "name": "stdout",
     "output_type": "stream",
     "text": [
      "2023-11-26 01:50:00\n",
      "Tehran time: 2023-11-26 01:20:00+03:30\n",
      "UTC time: 2023-11-25 21:50:00+00:00\n"
     ]
    }
   ],
   "source": [
    "from datetime import datetime\n",
    "import pytz\n",
    "\n",
    "# Get the current time in Tehran\n",
    "tehran_timezone = pytz.timezone('Asia/Tehran')\n",
    "\n",
    "time = datetime.strptime(\"2023-11-26 1:50:00\", '%Y-%m-%d %H:%M:%S')\n",
    "print(time)\n",
    "tehran_time = time.astimezone(tehran_timezone)\n",
    "\n",
    "# Convert Tehran time to UTC\n",
    "utc_timezone = pytz.utc\n",
    "utc_time = tehran_time.astimezone(utc_timezone)\n",
    "\n",
    "print(f\"Tehran time: {tehran_time}\")\n",
    "print(f\"UTC time: {utc_time}\")"
   ]
  },
  {
   "cell_type": "code",
   "execution_count": null,
   "metadata": {},
   "outputs": [],
   "source": []
  }
 ],
 "metadata": {
  "kernelspec": {
   "display_name": "Python 3",
   "language": "python",
   "name": "python3"
  },
  "language_info": {
   "codemirror_mode": {
    "name": "ipython",
    "version": 3
   },
   "file_extension": ".py",
   "mimetype": "text/x-python",
   "name": "python",
   "nbconvert_exporter": "python",
   "pygments_lexer": "ipython3",
   "version": "3.11.5"
  }
 },
 "nbformat": 4,
 "nbformat_minor": 2
}
